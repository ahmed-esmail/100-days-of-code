{
  "nbformat": 4,
  "nbformat_minor": 0,
  "metadata": {
    "colab": {
      "name": "Download From Direct Link To Drive.ipynb",
      "provenance": [],
      "include_colab_link": true
    },
    "kernelspec": {
      "name": "python3",
      "display_name": "Python 3"
    }
  },
  "cells": [
    {
      "cell_type": "markdown",
      "metadata": {
        "id": "view-in-github",
        "colab_type": "text"
      },
      "source": [
        "<a href=\"https://colab.research.google.com/github/ahmed-esmail/100-days-of-code/blob/master/Download_From_Direct_Link_To_Drive.ipynb\" target=\"_parent\"><img src=\"https://colab.research.google.com/assets/colab-badge.svg\" alt=\"Open In Colab\"/></a>"
      ]
    },
    {
      "cell_type": "markdown",
      "metadata": {
        "id": "hzcYuTG5I5ji"
      },
      "source": [
        "#Download From Direct Link To Drive:\n",
        "I created this notebook because my internet connection is so bad, and some websites doesn't allow resuming downloads so if you lost your connection, you have to start again from the beginning.\n",
        "\n",
        "```\n",
        "Belive me , it really sucks\n",
        "```\n",
        "With Google Colab service, we can benefit for it's ability to execute terminal commands like `wget` and to connect with our drive.\n",
        "\n",
        "# BEFORE YOU USE IT:\n",
        "I think that you are an adult, and so ...\n",
        "#### **YOU ARE RESPONSIBLE FOR YOUR USE OF THIS METHOD.**"
      ]
    },
    {
      "cell_type": "markdown",
      "metadata": {
        "id": "l9HPKjYIJyxJ"
      },
      "source": [
        "## How does it work ?\n",
        "\n",
        "\n",
        "1.   Mount your drive.\n",
        "2.   Use wget to download the file.\n",
        "3.   Move your file to your drive.\n",
        "4.   Done!\n",
        "\n"
      ]
    },
    {
      "cell_type": "markdown",
      "metadata": {
        "id": "CIi60m5lKnSI"
      },
      "source": [
        "### Mount your drive:"
      ]
    },
    {
      "cell_type": "code",
      "metadata": {
        "id": "Xpehx1vXIykC",
        "outputId": "71ef5127-b976-4cdc-91b4-bcc4f405773c",
        "colab": {
          "base_uri": "https://localhost:8080/"
        }
      },
      "source": [
        "from google.colab import drive\n",
        "drive.mount('/content/drive')"
      ],
      "execution_count": 1,
      "outputs": [
        {
          "output_type": "stream",
          "name": "stdout",
          "text": [
            "Mounted at /content/drive\n"
          ]
        }
      ]
    },
    {
      "cell_type": "markdown",
      "metadata": {
        "id": "DR_kvuUjKuMI"
      },
      "source": [
        "### Use wget to download the file:\n",
        "Replace your link with `link` and the output filename with `filename`."
      ]
    },
    {
      "cell_type": "code",
      "metadata": {
        "id": "ThdEeicaKxPn"
      },
      "source": [
        "! wget \"https://fs2.sfile.sbs/files/3/lyizqz73l4sltb/Sanet.ST_NodeJS_Internals_and_Architecture.part02.rar\" -o \"Sanet.ST_NodeJS_Internals_and_Architecture.part02.rar\""
      ],
      "execution_count": 2,
      "outputs": []
    },
    {
      "cell_type": "markdown",
      "metadata": {
        "id": "bFEDxAgAKuke"
      },
      "source": [
        "### Move your file to your drive:\n",
        "Make sure your drive is mounted in `./drive/MyDrive`.\n",
        "Replace your destination in `destination` - P.S: you can leave it empty to move your file to the root folder in Drive."
      ]
    },
    {
      "cell_type": "code",
      "metadata": {
        "id": "bPPLfRJLLNGk"
      },
      "source": [
        "! mv \"/content/Sanet.ST_NodeJS_Internals_and_Architecture.part02.rar.1\" \"/content/drive/MyDrive/Node Internal\""
      ],
      "execution_count": 3,
      "outputs": []
    },
    {
      "cell_type": "code",
      "source": [
        "import os\n",
        "\n",
        "# Define the list of download links\n",
        "links = [\n",
        "    \"https://juhtyg433.juythr4.uk/files/6/g3lvyxcw96v223/Sanet.ST_NodeJS_Internals_and_Architecture.part01.rar\",\n",
        "    \"https://fs2.sfile.sbs/files/3/lyizqz73l4sltb/Sanet.ST_NodeJS_Internals_and_Architecture.part02.rar\",\n",
        "    \"https://juhtyg433.juythr4.uk/files/0/ldiw1aoegb3imi/Sanet.ST_NodeJS_Internals_and_Architecture.part03.rar\",\n",
        "    \"https://juhtyg433.juythr4.uk/files/8/no6mrppdb86l0s/Sanet.ST_NodeJS_Internals_and_Architecture.part04.rar\",\n",
        "    \"https://fs2.sfile.sbs/files/4/fmlktyi1caphe2/Sanet.ST_NodeJS_Internals_and_Architecture.part05.rar\",\n",
        "    \"https://juhtyg433.juythr4.uk/files/7/aquqwdxw49kzu7/Sanet.ST_NodeJS_Internals_and_Architecture.part06.rar\",\n",
        "    \"https://fs2.sfile.sbs/files/4/uo2sd77p4t9dyh/Sanet.ST_NodeJS_Internals_and_Architecture.part07.rar\",\n",
        "    \"https://fs2.sfile.sbs/files/3/mem8o8bgjjpsrr/Sanet.ST_NodeJS_Internals_and_Architecture.part08.rar\",\n",
        "    \"https://juhtyg433.juythr4.uk/files/4/eheharggeaj8df/Sanet.ST_NodeJS_Internals_and_Architecture.part09.rar\",\n",
        "    \"https://juhtyg433.juythr4.uk/files/2/7mojlgw1s1nneu/Sanet.ST_NodeJS_Internals_and_Architecture.part10.rar\",\n",
        "    \"https://fs2.sfile.sbs/files/3/0uohj61bedzlo8/Sanet.ST_NodeJS_Internals_and_Architecture.part11.rar\",\n",
        "    \"https://juhtyg433.juythr4.uk/files/5/5ip99nob1grez2/Sanet.ST_NodeJS_Internals_and_Architecture.part12.rar\",\n",
        "    \"https://fs2.sfile.sbs/files/9/ap8a66eo3bq6ff/Sanet.ST_NodeJS_Internals_and_Architecture.part13.rar\",\n",
        "    \"https://juhtyg433.juythr4.uk/files/7/gdwktokrxas4tv/Sanet.ST_NodeJS_Internals_and_Architecture.part14.rar\",\n",
        "    \"https://juhtyg433.juythr4.uk/files/8/ade5iy5vodtt3h/Sanet.ST_NodeJS_Internals_and_Architecture.part15.rar\",\n",
        "    \"https://juhtyg433.juythr4.uk/files/1/et3qygwoagw1ys/Sanet.ST_NodeJS_Internals_and_Architecture.part16.rar\",\n",
        "    \"https://juhtyg433.juythr4.uk/files/0/h8cbubomxk7dx9/Sanet.ST_NodeJS_Internals_and_Architecture.part17.rar\",\n",
        "    \"https://fs2.sfile.sbs/files/4/gni1z9nvcw9iuj/Sanet.ST_NodeJS_Internals_and_Architecture.part18.rar\",\n",
        "    \"https://juhtyg433.juythr4.uk/files/2/3xw4ji12q35n2n/Sanet.ST_NodeJS_Internals_and_Architecture.part19.rar\"\n",
        "]\n",
        "\n",
        "\n",
        "# Download the files using wget and index for filename\n",
        "for index, link in enumerate(links):\n",
        "    filename = f\"file_{index + 1}.rar\"  # Create filename using index\n",
        "    !wget \"$link\" -O \"$filename\"\n",
        "\n",
        "# Move the files to your desired folder\n",
        "destination_folder = \"/content/drive/MyDrive/Node Internal\"\n",
        "for index in range(len(links)):\n",
        "    filename = f\"file_{index + 1}.rar\"  # Create filename using index\n",
        "    !mv \"/content/$filename\" \"$destination_folder\""
      ],
      "metadata": {
        "id": "ocYGHoJIHXPK",
        "outputId": "bc959e7c-a6f9-4067-a0f8-c5c946968098",
        "colab": {
          "base_uri": "https://localhost:8080/"
        }
      },
      "execution_count": null,
      "outputs": [
        {
          "output_type": "stream",
          "name": "stdout",
          "text": [
            "--2025-03-10 03:38:01--  https://juhtyg433.juythr4.uk/files/6/g3lvyxcw96v223/Sanet.ST_NodeJS_Internals_and_Architecture.part01.rar\n",
            "Resolving juhtyg433.juythr4.uk (juhtyg433.juythr4.uk)... 104.26.0.73, 172.67.73.121, 104.26.1.73, ...\n",
            "Connecting to juhtyg433.juythr4.uk (juhtyg433.juythr4.uk)|104.26.0.73|:443... connected.\n",
            "HTTP request sent, awaiting response... 200 OK\n",
            "Length: 1043333120 (995M) [application/x-rar-compressed]\n",
            "Saving to: ‘file_1.rar’\n",
            "\n",
            "file_1.rar          100%[===================>] 995.00M  30.7MB/s    in 32s     \n",
            "\n",
            "2025-03-10 03:38:33 (30.8 MB/s) - ‘file_1.rar’ saved [1043333120/1043333120]\n",
            "\n",
            "--2025-03-10 03:38:33--  https://fs2.sfile.sbs/files/3/lyizqz73l4sltb/Sanet.ST_NodeJS_Internals_and_Architecture.part02.rar\n",
            "Resolving fs2.sfile.sbs (fs2.sfile.sbs)... 83.149.95.201\n",
            "Connecting to fs2.sfile.sbs (fs2.sfile.sbs)|83.149.95.201|:443... connected.\n",
            "HTTP request sent, awaiting response... 200 OK\n",
            "Length: 1043333120 (995M) [application/x-rar-compressed]\n",
            "Saving to: ‘file_2.rar’\n",
            "\n",
            "file_2.rar          100%[===================>] 995.00M  29.9MB/s    in 35s     \n",
            "\n",
            "2025-03-10 03:39:09 (28.7 MB/s) - ‘file_2.rar’ saved [1043333120/1043333120]\n",
            "\n",
            "--2025-03-10 03:39:09--  https://juhtyg433.juythr4.uk/files/0/ldiw1aoegb3imi/Sanet.ST_NodeJS_Internals_and_Architecture.part03.rar\n",
            "Resolving juhtyg433.juythr4.uk (juhtyg433.juythr4.uk)... 104.26.0.73, 172.67.73.121, 104.26.1.73, ...\n",
            "Connecting to juhtyg433.juythr4.uk (juhtyg433.juythr4.uk)|104.26.0.73|:443... connected.\n",
            "HTTP request sent, awaiting response... 200 OK\n",
            "Length: 1043333120 (995M) [application/x-rar-compressed]\n",
            "Saving to: ‘file_3.rar’\n",
            "\n",
            "file_3.rar          100%[===================>] 995.00M  34.7MB/s    in 29s     \n",
            "\n",
            "2025-03-10 03:39:38 (34.4 MB/s) - ‘file_3.rar’ saved [1043333120/1043333120]\n",
            "\n",
            "--2025-03-10 03:39:38--  https://juhtyg433.juythr4.uk/files/8/no6mrppdb86l0s/Sanet.ST_NodeJS_Internals_and_Architecture.part04.rar\n",
            "Resolving juhtyg433.juythr4.uk (juhtyg433.juythr4.uk)... 104.26.0.73, 172.67.73.121, 104.26.1.73, ...\n",
            "Connecting to juhtyg433.juythr4.uk (juhtyg433.juythr4.uk)|104.26.0.73|:443... connected.\n",
            "HTTP request sent, awaiting response... 200 OK\n",
            "Length: 1043333120 (995M) [application/x-rar-compressed]\n",
            "Saving to: ‘file_4.rar’\n",
            "\n",
            "file_4.rar          100%[===================>] 995.00M  25.7MB/s    in 44s     \n",
            "\n",
            "2025-03-10 03:40:23 (22.5 MB/s) - ‘file_4.rar’ saved [1043333120/1043333120]\n",
            "\n",
            "--2025-03-10 03:40:23--  https://fs2.sfile.sbs/files/4/fmlktyi1caphe2/Sanet.ST_NodeJS_Internals_and_Architecture.part05.rar\n",
            "Resolving fs2.sfile.sbs (fs2.sfile.sbs)... 83.149.95.201\n",
            "Connecting to fs2.sfile.sbs (fs2.sfile.sbs)|83.149.95.201|:443... connected.\n",
            "HTTP request sent, awaiting response... 200 OK\n",
            "Length: 1043333120 (995M) [application/x-rar-compressed]\n",
            "Saving to: ‘file_5.rar’\n",
            "\n",
            "file_5.rar          100%[===================>] 995.00M  31.6MB/s    in 32s     \n",
            "\n",
            "2025-03-10 03:40:56 (31.0 MB/s) - ‘file_5.rar’ saved [1043333120/1043333120]\n",
            "\n",
            "--2025-03-10 03:40:56--  https://juhtyg433.juythr4.uk/files/7/aquqwdxw49kzu7/Sanet.ST_NodeJS_Internals_and_Architecture.part06.rar\n",
            "Resolving juhtyg433.juythr4.uk (juhtyg433.juythr4.uk)... 104.26.1.73, 104.26.0.73, 172.67.73.121, ...\n",
            "Connecting to juhtyg433.juythr4.uk (juhtyg433.juythr4.uk)|104.26.1.73|:443... connected.\n",
            "HTTP request sent, awaiting response... 200 OK\n",
            "Length: 1043333120 (995M) [application/x-rar-compressed]\n",
            "Saving to: ‘file_6.rar’\n",
            "\n",
            "file_6.rar          100%[===================>] 995.00M  29.9MB/s    in 32s     \n",
            "\n",
            "2025-03-10 03:41:29 (30.6 MB/s) - ‘file_6.rar’ saved [1043333120/1043333120]\n",
            "\n",
            "--2025-03-10 03:41:29--  https://fs2.sfile.sbs/files/4/uo2sd77p4t9dyh/Sanet.ST_NodeJS_Internals_and_Architecture.part07.rar\n",
            "Resolving fs2.sfile.sbs (fs2.sfile.sbs)... 83.149.95.201\n",
            "Connecting to fs2.sfile.sbs (fs2.sfile.sbs)|83.149.95.201|:443... connected.\n",
            "HTTP request sent, awaiting response... 200 OK\n",
            "Length: 1043333120 (995M) [application/x-rar-compressed]\n",
            "Saving to: ‘file_7.rar’\n",
            "\n",
            "file_7.rar           55%[==========>         ] 556.76M  29.6MB/s    eta 16s    "
          ]
        }
      ]
    },
    {
      "cell_type": "markdown",
      "metadata": {
        "id": "VUoN84C9KuyQ"
      },
      "source": [
        "### Done."
      ]
    }
  ]
}